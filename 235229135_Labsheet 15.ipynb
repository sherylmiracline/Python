{
 "cells": [
  {
   "cell_type": "markdown",
   "id": "e07164d2",
   "metadata": {},
   "source": [
    "Labsheet-15: Database Programming using Tkinter and Sqlite3\n",
    "Name: A.Sheryl Miracline\n",
    "Roll No.: 235229135\n",
    "Class: I-M.Sc. Data Science 'A'"
   ]
  },
  {
   "cell_type": "code",
   "execution_count": 1,
   "id": "242d9047",
   "metadata": {},
   "outputs": [],
   "source": [
    "import tkinter as tk\n",
    "from tkinter import messagebox\n",
    "import sqlite3\n",
    "from tkinter import ttk\n",
    "\n",
    "def submit_form():\n",
    "    name = name_entry.get()\n",
    "    email = email_entry.get()\n",
    "    course = course_combobox.get()\n",
    "\n",
    "    if name and email and course:\n",
    "        # Connect to the SQLite database\n",
    "        conn = sqlite3.connect('data.db')\n",
    "        cursor = conn.cursor()\n",
    "\n",
    "        cursor.execute('CREATE TABLE IF NOT EXISTS registrations (name TEXT, email TEXT, course TEXT)')\n",
    "\n",
    "        cursor.execute('INSERT INTO registrations VALUES (?, ?, ?)', (name, email, course))\n",
    "\n",
    "        conn.commit()\n",
    "        conn.close()\n",
    "\n",
    "        messagebox.showinfo(\"Success\", \"Form submitted successfully.\")\n",
    "\n",
    "        # Print submitted data to the console\n",
    "        print(f\"Name: {name}\\nEmail: {email}\\nCourse: {course}\")\n",
    "\n",
    "        reset_form()\n",
    "    else:\n",
    "        messagebox.showerror(\"Error\", \"Please fill out all the fields.\")\n",
    "\n",
    "def reset_form():\n",
    "    name_entry.delete(0, tk.END)\n",
    "    email_entry.delete(0, tk.END)\n",
    "    course_combobox.set(\"Select a Course\")\n",
    "\n",
    "\n",
    "window = tk.Tk()\n",
    "window.title(\"Registration Form\")\n",
    "window.geometry(\"300x250\")\n",
    "\n",
    "name_label = tk.Label(window, text=\"Name:\")\n",
    "name_label.pack()\n",
    "name_entry = tk.Entry(window)\n",
    "name_entry.pack()\n",
    "\n",
    "email_label = tk.Label(window, text=\"Email:\")\n",
    "email_label.pack()\n",
    "email_entry = tk.Entry(window)\n",
    "email_entry.pack()\n",
    "\n",
    "course_label = tk.Label(window, text=\"Course:\")\n",
    "course_label.pack()\n",
    "course_options = [\"Select a Course\", \"Math\", \"Science\", \"History\", \"Art\"]\n",
    "course_combobox = ttk.Combobox(window, values=course_options)\n",
    "course_combobox.set(\"Select a Course\")\n",
    "course_combobox.pack()\n",
    "\n",
    "submit_button = tk.Button(window, text=\"Submit\", command=submit_form)\n",
    "submit_button.pack()\n",
    "\n",
    "reset_button = tk.Button(window, text=\"Reset\", command=reset_form)\n",
    "reset_button.pack()\n",
    "\n",
    "window.mainloop()"
   ]
  },
  {
   "cell_type": "code",
   "execution_count": null,
   "id": "5000d6d3",
   "metadata": {},
   "outputs": [],
   "source": []
  }
 ],
 "metadata": {
  "kernelspec": {
   "display_name": "Python 3 (ipykernel)",
   "language": "python",
   "name": "python3"
  },
  "language_info": {
   "codemirror_mode": {
    "name": "ipython",
    "version": 3
   },
   "file_extension": ".py",
   "mimetype": "text/x-python",
   "name": "python",
   "nbconvert_exporter": "python",
   "pygments_lexer": "ipython3",
   "version": "3.11.3"
  }
 },
 "nbformat": 4,
 "nbformat_minor": 5
}
