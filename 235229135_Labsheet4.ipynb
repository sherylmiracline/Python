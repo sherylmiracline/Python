{
 "cells": [
  {
   "cell_type": "markdown",
   "metadata": {},
   "source": [
    "Labsheet4: Python file processing\n",
    "Name: A.Sheryl Miracline\n",
    "Roll No.: 235229135\n",
    "Class: I M.Sc.Data Science 'A'"
   ]
  },
  {
   "cell_type": "markdown",
   "metadata": {},
   "source": [
    "Question1: Write a program for password management system."
   ]
  },
  {
   "cell_type": "code",
   "execution_count": 3,
   "metadata": {},
   "outputs": [
    {
     "name": "stdout",
     "output_type": "stream",
     "text": [
      "Enter n to stop the entry: 1\n",
      "Enter the user name: sheryl\n",
      "Enter the password: sheryl_03\n",
      "Enter n to stop the entry: 2\n",
      "Enter the user name: miracline\n",
      "Enter the password: miracline_03\n",
      "Enter n to stop the entry: n\n",
      "Enter your user name: sheryl\n",
      "Enter your password: sheryl_03\n",
      "Login successful\n"
     ]
    }
   ],
   "source": [
    "user_list = list()\n",
    "password_list = list()\n",
    "with open('loginfile.txt','w+') as a, open('security.txt','w+') as s:\n",
    "    while True:\n",
    "        check = input(\"Enter n to stop the entry: \")\n",
    "        if check =='n':\n",
    "            break\n",
    "        user = input(\"Enter the user name: \")\n",
    "        pw = input(\"Enter the password: \")\n",
    "        a.write('{} {}\\n'.format(user,pw))\n",
    "with open('loginfile.txt','r') as a, open('security.txt','w') as s:\n",
    "    for y in a.readlines():\n",
    "        a,b = map(str,y.split())\n",
    "        user_list.append(a)\n",
    "        password_list.append(b)\n",
    "    s.write(str(user_list))\n",
    "    s.write('\\n')\n",
    "    s.write(str(password_list))\n",
    "with open('security.txt','r') as a:\n",
    "    name = input(\"Enter your user name: \")\n",
    "    password = input(\"Enter your password: \")\n",
    "    temname = a.readline()\n",
    "    tempass = a.readline()\n",
    "    if name in temname and password in tempass:\n",
    "        print(\"Login successful\")\n",
    "    else:\n",
    "        print(\"Login Failed, try again\")"
   ]
  },
  {
   "cell_type": "markdown",
   "metadata": {},
   "source": [
    "Question2: Write a program for Student Performance Analysis."
   ]
  },
  {
   "cell_type": "code",
   "execution_count": 2,
   "metadata": {},
   "outputs": [
    {
     "name": "stdout",
     "output_type": "stream",
     "text": [
      "Enter the number of students: 5\n",
      "Enter the mark for students: 78\n",
      "Enter the mark for students: 98\n",
      "Enter the mark for students: 56\n",
      "Enter the mark for students: 64\n",
      "Enter the mark for students: 88\n",
      "Marks written to file succesfully!\n",
      "Highest Mark:98.0\n",
      "\n",
      "Top 3 Marks:  [98.0, 88.0, 87.0]\n",
      "Lowest 3 Marks:  [56.0, 64.0, 76.0]\n"
     ]
    }
   ],
   "source": [
    "def write_marks_to_file(marks):\n",
    "    with open(\"marks.txt\",\"a\") as file:\n",
    "        for mark in marks:\n",
    "            file.write(f\"{mark}\\n\")\n",
    "def read_marks_from_file():\n",
    "    with open(\"marks.txt\",\"r\") as file:\n",
    "        with open(\"marks.txt\",\"r\") as file:\n",
    "            marks = [float(line.strip()) for line in file]\n",
    "        return marks\n",
    "def compute_highest_marks(marks):\n",
    "    highest_marks = max(marks)\n",
    "    return highest_marks\n",
    "def compute_top_3_marks(marks):\n",
    "    top_3_marks = sorted(marks, reverse=True)[:3]\n",
    "    return top_3_marks\n",
    "def compute_lowest_3_marks(marks):\n",
    "    lowest_3_marks = sorted(marks)[:3]\n",
    "    return lowest_3_marks\n",
    "def main():\n",
    "    N = int(input(\"Enter the number of students: \"))\n",
    "    marks = []\n",
    "    for num in range(N):\n",
    "        mark = float(input(\"Enter the mark for students: \"))\n",
    "        marks.append(mark)\n",
    "    write_marks_to_file(marks)\n",
    "    print(\"Marks written to file succesfully!\")\n",
    "    marks = read_marks_from_file()\n",
    "    highest_marks = compute_highest_marks(marks)\n",
    "    print(f\"Highest Mark:{highest_marks}\\n\")\n",
    "    top_3_marks = compute_top_3_marks(marks)\n",
    "    print(\"Top 3 Marks: \",top_3_marks)\n",
    "    lowest_3_marks = compute_lowest_3_marks(marks)\n",
    "    print(\"Lowest 3 Marks: \",lowest_3_marks)\n",
    "if __name__ == \"__main__\" :\n",
    "    main()"
   ]
  },
  {
   "cell_type": "markdown",
   "metadata": {},
   "source": [
    "Question3: Write a program for Stock Price Analysis."
   ]
  },
  {
   "cell_type": "code",
   "execution_count": 1,
   "metadata": {},
   "outputs": [
    {
     "name": "stdout",
     "output_type": "stream",
     "text": [
      "Enter stock name: House\n",
      "Enter price for Day 1: 5000\n",
      "Enter price for Day 2: 7000\n",
      "Enter price for Day 3: 60000\n",
      "Enter price for Day 4: 7000\n",
      "Enter price for Day 5: 10000\n",
      "Do you wnat to continue? (y/n): n\n",
      "Stock Prices written to file successfully!\n",
      "Stock Name: House\n",
      "Minimum Price: 5000.0 on Day 1\n",
      "Maximum Price: 60000.0 on Day 3\n",
      "Average Price: 17800.00\n",
      "\n"
     ]
    }
   ],
   "source": [
    "def write_stock_prices_to_file():\n",
    "    with open(\"stock-prices.txt\",\"a\") as file:\n",
    "        while True:\n",
    "            stock_name = input(\"Enter stock name: \")\n",
    "            prices = []\n",
    "            for i in range(1,6):\n",
    "                price = float(input(f\"Enter price for Day {i}: \"))\n",
    "                prices.append(price)\n",
    "            file.write(f\"{stock_name},{','.join(map(str,prices))}\\n\")\n",
    "            choice = input(\"Do you wnat to continue? (y/n): \")\n",
    "            if choice.lower() != 'y':\n",
    "                break\n",
    "def process_stock_prices():\n",
    "    with open(\"stock-prices.txt\",\"r\") as file:\n",
    "        for line in file:\n",
    "            stock_info = line.strip().split(',')\n",
    "            stock_name = stock_info[0]\n",
    "            prices = list(map(float, stock_info[1:]))\n",
    "            min_price = min(prices)\n",
    "            max_price = max(prices)\n",
    "            avg_price = sum(prices)/len(prices)\n",
    "            min_index = prices.index(min_price)\n",
    "            max_index = prices.index(max_price)\n",
    "            days = [\"Day 1\", \"Day 2\",\"Day 3\",\"Day 4\",\"Day 5\"]\n",
    "            print(f\"Stock Name: {stock_name}\")\n",
    "            print(f\"Minimum Price: {min_price} on {days[min_index]}\")\n",
    "            print(f\"Maximum Price: {max_price} on {days[max_index]}\")\n",
    "            print(f\"Average Price: {avg_price:.2f}\")\n",
    "            print()\n",
    "def main():\n",
    "    write_stock_prices_to_file()\n",
    "    print(\"Stock Prices written to file successfully!\")\n",
    "    process_stock_prices()\n",
    "if __name__ == \"__main__\":\n",
    "    main()"
   ]
  },
  {
   "cell_type": "markdown",
   "metadata": {},
   "source": [
    "Question4: Write a program for file explorer"
   ]
  },
  {
   "cell_type": "code",
   "execution_count": 10,
   "metadata": {},
   "outputs": [
    {
     "name": "stdout",
     "output_type": "stream",
     "text": [
      "Enter the filename: python.txt\n",
      "python is program language . it is open source software. it general purpose language,dynamic program language. it was developed in the year of 1991by gudio van rossum\n",
      "Number of lines in 'python.txt': 1\n",
      "Number of unique words in 'python.txt': 23\n",
      "Word frequency in file python.txt\n",
      "python : 1\n",
      "is : 2\n",
      "program : 2\n",
      "language : 1\n",
      ". : 1\n",
      "it : 3\n",
      "open : 1\n",
      "source : 1\n",
      "software. : 1\n",
      "general : 1\n",
      "purpose : 1\n",
      "language,dynamic : 1\n",
      "language. : 1\n",
      "was : 1\n",
      "developed : 1\n",
      "in : 1\n",
      "the : 1\n",
      "year : 1\n",
      "of : 1\n",
      "1991by : 1\n",
      "gudio : 1\n",
      "van : 1\n",
      "rossum : 1\n",
      "Random line in python.txt\n",
      "<built-in method strip of str object at 0x00000212A0BB2B10>\n"
     ]
    }
   ],
   "source": [
    "import random\n",
    "from collections import Counter\n",
    "\n",
    "def display_file_contents(filename):\n",
    "    try:\n",
    "        with open(filename,\"r\") as file:\n",
    "            contents = file.read()\n",
    "            print(contents)\n",
    "    except FileNotFoundError:\n",
    "        print(f\"Error: File '{filename}' not found.\")\n",
    "def count_lines_in_file(filename):\n",
    "    try:\n",
    "        with open(filename,\"r\") as file:\n",
    "            lines = file.read().splitlines()\n",
    "            lines_count = len (lines)\n",
    "            print(f\"Number of lines in '{filename}': {lines_count}\")\n",
    "    except FileNotFoundError:\n",
    "        print(f\"Error: File '{filename}' not found.\")\n",
    "def count_unique_words_in_file(filename):\n",
    "    try:\n",
    "        with open(filename,\"r\") as file:\n",
    "            words = file.read().split()\n",
    "            unique_words = set(words)\n",
    "            unique_words_count = len(unique_words)\n",
    "            print(f\"Number of unique words in '{filename}': {unique_words_count}\")\n",
    "    except FileNotFoundError:\n",
    "        print(f\"Error: File '{filename}' not found.\")\n",
    "def find_word_frequency_in_file(filename):\n",
    "    try:\n",
    "        with open(filename,\"r\") as file:\n",
    "            words = file.read().split()\n",
    "            words_frequency = Counter(words)\n",
    "            print(\"Word frequency in file\",filename)\n",
    "            for word, frequency in words_frequency.items():\n",
    "                print(f\"{word} : {frequency}\")\n",
    "    except FileNotFoundError:\n",
    "        print(f\"Error: file '{filename}' not found.\")\n",
    "def show_random_line_in_file(filename):\n",
    "    try:\n",
    "        with open(filename,\"r\") as file:\n",
    "            lines = file.readlines()\n",
    "            random_line = random.choice(lines).strip\n",
    "            print(\"Random line in\",filename)\n",
    "            print(random_line)\n",
    "    except FileNotFoundError:\n",
    "        print(f\"Error: file '{filename}' not found.\")\n",
    "def main():\n",
    "    filename = input(\"Enter the filename: \")\n",
    "    display_file_contents(filename)\n",
    "    count_lines_in_file(filename)\n",
    "    count_unique_words_in_file(filename)\n",
    "    find_word_frequency_in_file(filename)\n",
    "    show_random_line_in_file(filename)\n",
    "if __name__ == \"__main__\":\n",
    "    main()\n",
    "    "
   ]
  },
  {
   "cell_type": "markdown",
   "metadata": {},
   "source": [
    "Question5: Develop an application in python to read through the email data."
   ]
  },
  {
   "cell_type": "code",
   "execution_count": 4,
   "metadata": {},
   "outputs": [
    {
     "name": "stdout",
     "output_type": "stream",
     "text": [
      "stephen.marquard@uct.ac.za\n",
      "louis@media.berkeley.edu\n",
      "zqian@umich.edu\n",
      "rjlowe@iupui.edu\n",
      "zqian@umich.edu\n",
      "rjlowe@iupui.edu\n",
      "cwen@iupui.edu\n",
      "cwen@iupui.edu\n",
      "gsilver@umich.edu\n",
      "gsilver@umich.edu\n",
      "zqian@umich.edu\n",
      "gsilver@umich.edu\n",
      "wagnermr@iupui.edu\n",
      "zqian@umich.edu\n",
      "antranig@caret.cam.ac.uk\n",
      "gopal.ramasammycook@gmail.com\n",
      "david.horwitz@uct.ac.za\n",
      "david.horwitz@uct.ac.za\n",
      "david.horwitz@uct.ac.za\n",
      "david.horwitz@uct.ac.za\n",
      "stephen.marquard@uct.ac.za\n",
      "louis@media.berkeley.edu\n",
      "louis@media.berkeley.edu\n",
      "ray@media.berkeley.edu\n",
      "cwen@iupui.edu\n",
      "cwen@iupui.edu\n",
      "cwen@iupui.edu\n",
      "Total 'From' lines found:  27\n"
     ]
    }
   ],
   "source": [
    "def read_email_data(filename):\n",
    "    try:\n",
    "        with open(filename,\"r\") as file:\n",
    "            count = 0\n",
    "            for line in file:\n",
    "                if line.startswith(\"From \"):\n",
    "                    count+=1\n",
    "                    words = line.split()\n",
    "                    sender_email = words[1]\n",
    "                    print(sender_email)\n",
    "            print(\"Total 'From' lines found: \",count)\n",
    "    except FileNotFoundError:\n",
    "        print(\"Error :File\",filename,\"not found.\")\n",
    "def main():\n",
    "    filename = \"mbox-short.txt\"\n",
    "    read_email_data(filename)\n",
    "if __name__ == \"__main__\":\n",
    "    main()"
   ]
  },
  {
   "cell_type": "markdown",
   "metadata": {},
   "source": [
    "Question6 : Write a program to read and write CSV Files."
   ]
  },
  {
   "cell_type": "code",
   "execution_count": 11,
   "metadata": {},
   "outputs": [
    {
     "name": "stdout",
     "output_type": "stream",
     "text": [
      "CSV file created sucessfully!\n",
      "\n",
      " Displaying the contents of the CSV File: \n",
      "Name, Mark1, Mark2, Mark3, Mark4, Mark5\n",
      "Sheryl, 78, 65, 35, 49, 52\n",
      "Sheeena, 98, 89, 79, 90, 82\n",
      "Miracle, 56, 78, 94, 36, 69\n",
      "\n",
      " Add a new student to the CSV File: \n",
      "Enter the student name: Merline\n",
      "Enter mark1: 87\n",
      "Enter mark2: 89\n",
      "Enter mark3: 79\n",
      "Enter mark4: 90\n",
      "Enter mark5: 91\n",
      "Student data written to CSV sucessfully!\n"
     ]
    }
   ],
   "source": [
    "import csv\n",
    "def create_csv_file():\n",
    "    header = [\"Name\",\"Mark1\",\"Mark2\",\"Mark3\",\"Mark4\",\"Mark5\"]\n",
    "    data = [\n",
    "        [\"Sheryl\",78,65,35,49,52],\n",
    "        [\"Sheeena\",98,89,79,90,82],\n",
    "        [\"Miracle\",56,78,94,36,69]\n",
    "    ]\n",
    "    with open (\"student_marks.csv\", \"w\", newline = '') as file:\n",
    "        writer = csv.writer(file)\n",
    "        writer.writerow(header)\n",
    "        writer.writerows(data)\n",
    "def display_csv_file():\n",
    "    with open(\"student_marks.csv\", \"r\", newline= '') as file:\n",
    "        reader = csv.reader(file)\n",
    "        for row in reader:\n",
    "            print(', '.join(row))\n",
    "def write_to_csv_file():\n",
    "    new_student_data = []\n",
    "    name = input(\"Enter the student name: \")\n",
    "    marks = []\n",
    "    for i in range(5):\n",
    "        mark = int(input(f\"Enter mark{i+1}: \"))\n",
    "        marks.append(mark)\n",
    "    new_student_data.append([name] + marks)\n",
    "    with open(\"student_marks.csv\",\"a\",newline = '') as file:\n",
    "        writer = csv.writer(file)\n",
    "        writer.writerows(new_student_data)\n",
    "    print(\"Student data written to CSV sucessfully!\")\n",
    "def main():\n",
    "    create_csv_file()\n",
    "    print(\"CSV file created sucessfully!\")\n",
    "    print(\"\\n Displaying the contents of the CSV File: \")\n",
    "    display_csv_file()\n",
    "    print(\"\\n Add a new student to the CSV File: \")\n",
    "    write_to_csv_file()\n",
    "if __name__ == \"__main__\":\n",
    "    main() "
   ]
  },
  {
   "cell_type": "code",
   "execution_count": null,
   "metadata": {},
   "outputs": [],
   "source": []
  }
 ],
 "metadata": {
  "kernelspec": {
   "display_name": "Python 3 (ipykernel)",
   "language": "python",
   "name": "python3"
  },
  "language_info": {
   "codemirror_mode": {
    "name": "ipython",
    "version": 3
   },
   "file_extension": ".py",
   "mimetype": "text/x-python",
   "name": "python",
   "nbconvert_exporter": "python",
   "pygments_lexer": "ipython3",
   "version": "3.11.3"
  }
 },
 "nbformat": 4,
 "nbformat_minor": 2
}
